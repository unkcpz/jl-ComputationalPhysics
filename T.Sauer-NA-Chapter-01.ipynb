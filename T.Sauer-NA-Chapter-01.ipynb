{
 "cells": [
  {
   "cell_type": "code",
   "execution_count": 1,
   "metadata": {},
   "outputs": [
    {
     "data": {
      "text/plain": [
       "bisect (generic function with 1 method)"
      ]
     },
     "execution_count": 1,
     "metadata": {},
     "output_type": "execute_result"
    }
   ],
   "source": [
    "function bisect(f::Function, a::Real, b::Real, tol::Real)::Real\n",
    "    @assert f(a) * f(b) < 0 \"root should exist between interval [a, b]\"\n",
    "    \n",
    "    c = 0\n",
    "    while (b - a) / 2 > tol\n",
    "        c = (a + b) / 2\n",
    "        if f(c) == 0\n",
    "            return c\n",
    "        end\n",
    "        if f(a) * f(c) < 0\n",
    "            b = c\n",
    "        else\n",
    "            a = c\n",
    "        end\n",
    "    end\n",
    "    return c\n",
    "end"
   ]
  },
  {
   "cell_type": "code",
   "execution_count": null,
   "metadata": {},
   "outputs": [],
   "source": [
    "f(x) = x^3 + x -1"
   ]
  },
  {
   "cell_type": "code",
   "execution_count": null,
   "metadata": {},
   "outputs": [],
   "source": [
    "bisect(f, 0, 1, 1e-6)"
   ]
  },
  {
   "cell_type": "code",
   "execution_count": null,
   "metadata": {},
   "outputs": [],
   "source": [
    "function fpi(f::Function, ini::Real, t::Integer)::Real\n",
    "    x = ini\n",
    "    for i = 1:t\n",
    "        x = f(x)\n",
    "    end\n",
    "    return x\n",
    "end"
   ]
  },
  {
   "cell_type": "code",
   "execution_count": null,
   "metadata": {},
   "outputs": [],
   "source": [
    "fpi(cos, 0.1, 20)"
   ]
  },
  {
   "cell_type": "code",
   "execution_count": null,
   "metadata": {},
   "outputs": [],
   "source": [
    "g(x) = x^3 - 2x^2 + 4/3 * x - 8/27\n",
    "bisect(g, 0, 1, 1e-7)"
   ]
  },
  {
   "cell_type": "code",
   "execution_count": null,
   "metadata": {},
   "outputs": [],
   "source": [
    "using Roots\n",
    "fzero(g, 0, 1)"
   ]
  },
  {
   "cell_type": "markdown",
   "metadata": {},
   "source": [
    "WilkPloy problem"
   ]
  },
  {
   "cell_type": "code",
   "execution_count": null,
   "metadata": {},
   "outputs": [],
   "source": [
    "function wilkpoly(x)\n",
    "    y = 1\n",
    "    for i = 1:20\n",
    "        y = y*(x-i)\n",
    "    end\n",
    "    return y\n",
    "end"
   ]
  },
  {
   "cell_type": "code",
   "execution_count": null,
   "metadata": {},
   "outputs": [],
   "source": [
    "bisect(wilkpoly, 15.1, 16.5, 1e-6)"
   ]
  },
  {
   "cell_type": "code",
   "execution_count": null,
   "metadata": {},
   "outputs": [],
   "source": [
    "using Plots"
   ]
  },
  {
   "cell_type": "code",
   "execution_count": null,
   "metadata": {},
   "outputs": [],
   "source": [
    "plot(wilkpoly, 5, 15)"
   ]
  },
  {
   "cell_type": "code",
   "execution_count": null,
   "metadata": {},
   "outputs": [],
   "source": [
    "function newton_raphson(f::Function, df::Function, x0::Real, tol::Real)::Real\n",
    "    x = x0\n",
    "    while abs(f(x)) > tol\n",
    "        x = x - f(x)/df(x)\n",
    "    end\n",
    "    return x\n",
    "end"
   ]
  },
  {
   "cell_type": "code",
   "execution_count": null,
   "metadata": {},
   "outputs": [],
   "source": [
    "f(x) = x^3 + x -1\n",
    "df(x) = 3x^2 + 1;"
   ]
  },
  {
   "cell_type": "code",
   "execution_count": null,
   "metadata": {},
   "outputs": [],
   "source": [
    "newton_raphson(f, df, 0, 1e-6)"
   ]
  },
  {
   "cell_type": "code",
   "execution_count": null,
   "metadata": {},
   "outputs": [],
   "source": [
    "function secant(f::Function, a::Real, b::Real, tol::Real)\n",
    "    @assert f(a)*f(b) < 0 \"[a, b] interval not contain singlt root\"\n",
    "    c = (b - a) / 2\n",
    "    while abs(f(c)) > tol\n",
    "        a, b, c = b, c, c - (f(c)*(a - b)) / (f(a) - f(b))\n",
    "    end\n",
    "    return c\n",
    "end "
   ]
  },
  {
   "cell_type": "code",
   "execution_count": null,
   "metadata": {},
   "outputs": [],
   "source": [
    "f(x) = x^3 + x -1\n",
    "secant(f, 0, 1, 1e-5)"
   ]
  },
  {
   "cell_type": "code",
   "execution_count": null,
   "metadata": {},
   "outputs": [],
   "source": [
    "function regula_falsi(f::Function, a::Real, b::Real, tol::Real)\n",
    "    @assert f(a)*f(b) < 0 \"[a, b] interval not contain singlt root\"\n",
    "    c = (b - a) / 2\n",
    "    while abs(f(c)) > tol\n",
    "        c = (b*f(a) - a*f(b)) / (f(a) - f(b))\n",
    "        if f(c) == 0\n",
    "            return c\n",
    "        end\n",
    "        if f(a) * f(c) < 0\n",
    "            b = c\n",
    "        else\n",
    "            a = c\n",
    "        end\n",
    "    end\n",
    "    return c\n",
    "end"
   ]
  },
  {
   "cell_type": "code",
   "execution_count": null,
   "metadata": {},
   "outputs": [],
   "source": [
    "f(x) = x^3 + x -1\n",
    "regula_falsi(f, 0, 1, 1e-5)"
   ]
  },
  {
   "cell_type": "code",
   "execution_count": null,
   "metadata": {},
   "outputs": [],
   "source": [
    "function iqi(f::Function, a::Real, b::Real, tol::Real)\n",
    "    c = (b - a) / 2\n",
    "    d = 0\n",
    "    while abs(f(d)) > tol\n",
    "        q, r, s = f(a) / f(b), f(c) / f(b), f(c) / f(a)\n",
    "        d = c - (r*(r-q)*(c-b) + (1-r)*s*(c-a)) / ((q-1)*(r-1)*(s-1))\n",
    "        a, b, c = b, c, d\n",
    "    end\n",
    "    return d\n",
    "end"
   ]
  },
  {
   "cell_type": "code",
   "execution_count": null,
   "metadata": {},
   "outputs": [],
   "source": [
    "f(x) = x^3 + x -1\n",
    "iqi(f, 0, 1, 1e-5)"
   ]
  },
  {
   "cell_type": "code",
   "execution_count": null,
   "metadata": {},
   "outputs": [],
   "source": []
  }
 ],
 "metadata": {
  "kernelspec": {
   "display_name": "Julia 1.1.1",
   "language": "julia",
   "name": "julia-1.1"
  },
  "language_info": {
   "file_extension": ".jl",
   "mimetype": "application/julia",
   "name": "julia",
   "version": "1.1.1"
  }
 },
 "nbformat": 4,
 "nbformat_minor": 2
}
