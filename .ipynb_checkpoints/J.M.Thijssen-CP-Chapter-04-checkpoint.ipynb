{
 "cells": [
  {
   "cell_type": "code",
   "execution_count": 1,
   "metadata": {},
   "outputs": [],
   "source": [
    "using SymPy\n",
    "using IterativeSolvers\n",
    "using LinearAlgebra"
   ]
  },
  {
   "cell_type": "code",
   "execution_count": 2,
   "metadata": {},
   "outputs": [
    {
     "data": {
      "text/latex": [
       "\\begin{equation*}\\begin{cases} \\frac{\\sqrt{\\pi} \\operatorname{erf}{\\left(\\infty \\sqrt{α} \\right)}}{\\sqrt{α}} & \\text{for}\\: α > -\\infty \\wedge α < \\infty \\wedge α \\neq 0 \\\\\\infty & \\text{otherwise} \\end{cases}\\end{equation*}"
      ],
      "text/plain": [
       "⎧√π⋅erf(inf⋅√α)                            \n",
       "⎪──────────────  for α > -∞ ∧ α < ∞ ∧ α ≠ 0\n",
       "⎨      √α                                  \n",
       "⎪                                          \n",
       "⎩     inf                otherwise         "
      ]
     },
     "execution_count": 2,
     "metadata": {},
     "output_type": "execute_result"
    }
   ],
   "source": [
    "r, α, β = symbols(\"r, α, β\")\n",
    "integrate(exp(-α*r^2), (r, -Inf, Inf))"
   ]
  },
  {
   "cell_type": "code",
   "execution_count": 3,
   "metadata": {},
   "outputs": [],
   "source": [
    "α = [0.298073, 1.242567, 5.782948, 38.474970]\n",
    "h(m,n) = 3 * α[m]*α[n]*π^(3/2) / (α[m]+α[n])^(5/2) - 4π / (α[m]+α[n])\n",
    "s(m,n) = (π/(α[m]+α[n]))^(3/2)\n",
    "H = [h(i,j) for i = 1:4, j = 1:4]\n",
    "S = [s(i,j) for i = 1:4, j = 1:4];"
   ]
  },
  {
   "cell_type": "code",
   "execution_count": 13,
   "metadata": {},
   "outputs": [],
   "source": [
    "q(px,rx,qx,sx) = 2*π^(5/2) / ((α[px]+α[qx])*(α[rx]+α[sx])*√(α[px]+α[qx]+α[rx]+α[sx]))\n",
    "Q = [q(i,j,k,l) for i = 1:4, j = 1:4, k = 1:4, l = 1:4];"
   ]
  },
  {
   "cell_type": "code",
   "execution_count": 14,
   "metadata": {},
   "outputs": [
    {
     "name": "stdout",
     "output_type": "stream",
     "text": [
      "Cinit = [0.218418, 0.218418, 0.218418, 0.218418]\n"
     ]
    },
    {
     "data": {
      "text/plain": [
       "4-element Array{Float64,1}:\n",
       " 0.2184178055775862\n",
       " 0.2184178055775862\n",
       " 0.2184178055775862\n",
       " 0.2184178055775862"
      ]
     },
     "execution_count": 14,
     "metadata": {},
     "output_type": "execute_result"
    }
   ],
   "source": [
    "function norm!(C, S)\n",
    "    A = C' * S * C\n",
    "    C .= C / √A\n",
    "    C\n",
    "end\n",
    "Cinit = [1.0, 1.0, 1.0, 1.0]\n",
    "norm!(Cinit, S)\n",
    "@show Cinit"
   ]
  },
  {
   "cell_type": "code",
   "execution_count": 49,
   "metadata": {},
   "outputs": [
    {
     "data": {
      "text/plain": [
       "energy (generic function with 1 method)"
      ]
     },
     "execution_count": 49,
     "metadata": {},
     "output_type": "execute_result"
    }
   ],
   "source": [
    "function energy(X)\n",
    "    res = 0.0\n",
    "    res += 2 * X' * H * X\n",
    "    \n",
    "    for idx in CartesianIndices(Q)\n",
    "        res += Q[idx] * X[idx.I[1]] * X[idx.I[2]] * X[idx.I[3]] * X[idx.I[4]]\n",
    "    end\n",
    "    res\n",
    "end"
   ]
  },
  {
   "cell_type": "code",
   "execution_count": 50,
   "metadata": {},
   "outputs": [
    {
     "data": {
      "text/plain": [
       "scf (generic function with 1 method)"
      ]
     },
     "execution_count": 50,
     "metadata": {},
     "output_type": "execute_result"
    }
   ],
   "source": [
    "function scf(X, H, S, Q)\n",
    "    X = X\n",
    "    for maxiter = 1:20\n",
    "        q_ = zeros(4, 4)\n",
    "        for i in 1:4\n",
    "            for j in 1:4\n",
    "                q_ += Q[:,i,:,j] * X[i] * X[j]\n",
    "            end\n",
    "        end\n",
    "\n",
    "        F = H + q_\n",
    "        res = lobpcg(F, S, false, 4)\n",
    "        X = norm!(res.X[:, 1], S)\n",
    "#         @show res.λ[1]\n",
    "#         @show X\n",
    "    end\n",
    "    X\n",
    "end"
   ]
  },
  {
   "cell_type": "code",
   "execution_count": 51,
   "metadata": {},
   "outputs": [
    {
     "data": {
      "text/plain": [
       "4-element Array{Float64,1}:\n",
       " 0.14772291084232392\n",
       " 0.3938443254212483 \n",
       " 0.41082716586722734\n",
       " 0.2612968729126923 "
      ]
     },
     "execution_count": 51,
     "metadata": {},
     "output_type": "execute_result"
    }
   ],
   "source": [
    "C = [0.5, 0.5, 0.5, 0.5]\n",
    "X = scf(C, H, S, Q)"
   ]
  },
  {
   "cell_type": "code",
   "execution_count": 52,
   "metadata": {},
   "outputs": [
    {
     "data": {
      "text/plain": [
       "-2.855160382370248"
      ]
     },
     "execution_count": 52,
     "metadata": {},
     "output_type": "execute_result"
    }
   ],
   "source": [
    "energy(X)"
   ]
  },
  {
   "cell_type": "code",
   "execution_count": null,
   "metadata": {},
   "outputs": [],
   "source": []
  },
  {
   "cell_type": "code",
   "execution_count": null,
   "metadata": {},
   "outputs": [],
   "source": []
  }
 ],
 "metadata": {
  "@webio": {
   "lastCommId": null,
   "lastKernelId": null
  },
  "kernelspec": {
   "display_name": "Julia 1.1.1",
   "language": "julia",
   "name": "julia-1.1"
  },
  "language_info": {
   "file_extension": ".jl",
   "mimetype": "application/julia",
   "name": "julia",
   "version": "1.1.1"
  }
 },
 "nbformat": 4,
 "nbformat_minor": 2
}
