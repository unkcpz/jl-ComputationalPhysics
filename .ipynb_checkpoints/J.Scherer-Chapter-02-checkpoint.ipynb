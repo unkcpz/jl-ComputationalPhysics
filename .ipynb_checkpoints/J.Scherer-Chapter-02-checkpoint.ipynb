{
 "cells": [
  {
   "cell_type": "markdown",
   "metadata": {},
   "source": [
    "## Chapter2 Problem"
   ]
  },
  {
   "cell_type": "markdown",
   "metadata": {},
   "source": [
    "#### Problem 2.1\n",
    "Table 1 (Zener diode voltage/current data)\n",
    "\n",
    "| Voltage | -1.5   | -1.0 | -0.5   | 0.0 |\n",
    "|---------|--------|------|--------|-----|\n",
    "| Current | -3.375 | -1.0 | -0.125 | 0.0 |\n",
    "\n",
    "Table 2 (Additional voltage/current data)\n",
    "\n",
    "| Voltage | 1.0 | 2.0 | 3.0 | 4.0 | 4.1 | 4.2 | 4.5  |\n",
    "|---------|-----|-----|-----|-----|-----|-----|------|\n",
    "| Current | 0.0 | 0.0 | 0.0 | 0.0 | 1.0 | 3.0 | 10.0 |\n",
    "\n",
    "Table 3 (Pulse and step function data)\n",
    "\n",
    "| $x$      | -3 | -2 | -1 | 0 | 1 | 2 | 3 |\n",
    "|--------|----|----|----|---|---|---|---|\n",
    "| $y_{pulse}$ | 0  | 0  | 0  | 1 | 0 | 0 | 0 |\n",
    "| $y_{step}$  | 0  | 0  | 0  | 1 | 1 | 1 | 1 |\n",
    "\n",
    "*(Polynomial interpolation)* This computer experiment interpolates a given set of $n$ data points by\n",
    "\n",
    "- a polynomial\n",
    "- a linear spline which connects successive points by straight lines\n",
    "- a cubic spline with natural boundary conditions\n",
    "- a rational function 1. without poles, 2. with weithts according to Berrut, 3. or Floater-Hormann\n",
    "- Interpolate the data (Table 1) in the range $-1.5<x<0$.\n",
    "- Now add some more sample points (Table 2) for $-1.5<x<4.5$\n",
    "- Interpolate the function $f(x)=\\sin(x)$ at the points $x=0,\\frac{\\pi}{2},\\pi,\\frac{3\\pi}{2},2\\pi$. Take more sample points and check if the quality of the fit is improved.\n",
    "- Investigate the oscillatory behavior for a discontinuous pulse of step function as given by the data (Table 3)."
   ]
  },
  {
   "cell_type": "markdown",
   "metadata": {},
   "source": [
    "##### Destination Usage Example\n",
    "Example from `JuliaMath/Interpolations.jl`"
   ]
  },
  {
   "cell_type": "code",
   "execution_count": 5,
   "metadata": {},
   "outputs": [
    {
     "name": "stdout",
     "output_type": "stream",
     "text": [
      "interp_linear(3) = 1.0986122886681098\n",
      "interp_linear(3.1) = 1.1308815492368953\n",
      "interp_cubic(3) = 1.0986122886681098\n",
      "interp_cubic(3.1) = 1.1314023737384542\n"
     ]
    }
   ],
   "source": [
    "using Interpolations\n",
    "\n",
    "f(x) = log(x)\n",
    "xs = 1:0.2:5\n",
    "A = [f(x) for x in xs]\n",
    "\n",
    "# linear interpolation\n",
    "interp_linear = LinearInterpolation(xs, A)\n",
    "@show interp_linear(3) # exactly log(3)\n",
    "@show interp_linear(3.1) # approximately log(3.1)\n",
    "\n",
    "# cubic spline interpolation\n",
    "interp_cubic = CubicSplineInterpolation(xs, A)\n",
    "@show interp_cubic(3) # exactly log(3)\n",
    "@show interp_cubic(3.1) # approximately log(3.1);"
   ]
  },
  {
   "cell_type": "markdown",
   "metadata": {},
   "source": [
    "##### Experiment"
   ]
  },
  {
   "cell_type": "code",
   "execution_count": 17,
   "metadata": {},
   "outputs": [
    {
     "data": {
      "text/plain": [
       "LagrangePolynomialsInterpolation (generic function with 1 method)"
      ]
     },
     "execution_count": 17,
     "metadata": {},
     "output_type": "execute_result"
    }
   ],
   "source": [
    "function LagrangePolynomialsInterpolation(xs, ys)\n",
    "    function lagrange(x)\n",
    "        L = copy(ys)\n",
    "        for i in eachindex(xs)\n",
    "            for j in eachindex(xs)\n",
    "                if i == j\n",
    "                    continue\n",
    "                end\n",
    "                L[i] = L[i]*(x-xs[j])/(xs[i]-xs[j])\n",
    "            end\n",
    "        end\n",
    "        return sum(L)\n",
    "    end\n",
    "    return lagrange\n",
    "end"
   ]
  },
  {
   "cell_type": "code",
   "execution_count": 22,
   "metadata": {},
   "outputs": [
    {
     "name": "stdout",
     "output_type": "stream",
     "text": [
      "interp_lagrange(3) = 1.0986122886681098\n",
      "log(3) = 1.0986122886681098\n",
      "interp_lagrange(3.1) = 1.1314021114908486\n",
      "log(3.1) = 1.1314021114911006\n"
     ]
    }
   ],
   "source": [
    "interp_lagrange = LagrangePolynomialsInterpolation(xs, A)\n",
    "@show interp_lagrange(3)\n",
    "@show log(3)\n",
    "@show interp_lagrange(3.1) # approximately log(3.1);\n",
    "@show log(3.1);"
   ]
  },
  {
   "cell_type": "code",
   "execution_count": null,
   "metadata": {},
   "outputs": [],
   "source": [
    "# TODO\n",
    "function NewtonInterpolation(xs, ys)\n",
    "end"
   ]
  },
  {
   "cell_type": "code",
   "execution_count": 41,
   "metadata": {},
   "outputs": [
    {
     "data": {
      "text/plain": [
       "MyLinearSplineInterpolation (generic function with 1 method)"
      ]
     },
     "execution_count": 41,
     "metadata": {},
     "output_type": "execute_result"
    }
   ],
   "source": [
    "function MyLinearSplineInterpolation(xs, ys)\n",
    "    function linear(x)\n",
    "        y = 0\n",
    "        for i in 1:length(xs)-1\n",
    "            if xs[i] <= x < xs[i+1]\n",
    "                y = ys[i] + (ys[i+1]-ys[i])/(xs[i+1]-xs[i])*(x-xs[i])\n",
    "                break\n",
    "            end\n",
    "        end\n",
    "        return y        \n",
    "    end\n",
    "    return linear\n",
    "end"
   ]
  },
  {
   "cell_type": "code",
   "execution_count": 44,
   "metadata": {},
   "outputs": [
    {
     "name": "stdout",
     "output_type": "stream",
     "text": [
      "interp_linear(3) = 1.0986122886681098\n",
      "log(3) = 1.0986122886681098\n",
      "interp_linear(3.1) = 1.1308815492368953\n",
      "log(3.1) = 1.1314021114911006\n"
     ]
    }
   ],
   "source": [
    "interp_linear = MyLinearSplineInterpolation(xs, A)\n",
    "@show interp_linear(3)\n",
    "@show log(3)\n",
    "@show interp_linear(3.1) # approximately log(3.1);\n",
    "@show log(3.1);"
   ]
  },
  {
   "cell_type": "markdown",
   "metadata": {},
   "source": [
    "Using `JuliaMath/Interpolations.jl`"
   ]
  },
  {
   "cell_type": "code",
   "execution_count": 45,
   "metadata": {},
   "outputs": [
    {
     "name": "stdout",
     "output_type": "stream",
     "text": [
      "interp_linear(3) = 1.0986122886681098\n",
      "log(3) = 1.0986122886681098\n",
      "interp_linear(3.1) = 1.1308815492368953\n",
      "log(3.1) = 1.1314021114911006\n"
     ]
    }
   ],
   "source": [
    "interp_linear = LinearInterpolation(xs, A)\n",
    "@show interp_linear(3)\n",
    "@show log(3)\n",
    "@show interp_linear(3.1) # approximately log(3.1);\n",
    "@show log(3.1);"
   ]
  },
  {
   "cell_type": "code",
   "execution_count": 46,
   "metadata": {},
   "outputs": [
    {
     "name": "stdout",
     "output_type": "stream",
     "text": [
      "interp_cubic(3) = 1.0986122886681098\n",
      "log(3) = 1.0986122886681098\n",
      "interp_cubic(3.1) = 1.1314023737384542\n",
      "log(3.1) = 1.1314021114911006\n"
     ]
    }
   ],
   "source": [
    "interp_cubic = CubicSplineInterpolation(xs, A)\n",
    "@show interp_cubic(3)\n",
    "@show log(3)\n",
    "@show interp_cubic(3.1) # approximately log(3.1);\n",
    "@show log(3.1);"
   ]
  },
  {
   "cell_type": "code",
   "execution_count": null,
   "metadata": {},
   "outputs": [],
   "source": [
    "interp_linear = MyLinearSplineInterpolation(xs, A)\n",
    "@show interp_linear(3)\n",
    "@show log(3)\n",
    "@show interp_linear(3.1) # approximately log(3.1);\n",
    "@show log(3.1);"
   ]
  },
  {
   "cell_type": "code",
   "execution_count": null,
   "metadata": {},
   "outputs": [],
   "source": [
    "function MyCubicSplineInterpolation(xs, ys)\n",
    "    # TODO\n",
    "end"
   ]
  },
  {
   "cell_type": "markdown",
   "metadata": {},
   "source": [
    "#### Problem 2.2\n",
    "\n",
    "Table 4 (Data set for two-dimensional interpolation)\n",
    "\n",
    "| $x$ | 0 | 1 | 2  | 0 | 1 | 2 | 0  | 1 | 2 |\n",
    "|---|---|---|----|---|---|---|----|---|---|\n",
    "| $y$ | 0 | 0 | 0  | 1 | 1 | 1 | 2  | 2 | 2 |\n",
    "| $f$ | 1 | 0 | -1 | 0 | 0 | 0 | -1 | 0 | 1 |\n",
    "\n",
    "This computer experiment uses bilinear interpolation or bicubic spline inter polation to interpolate the data (Table 4) on a finer grid $\\Delta x = \\Delta y = 0.1$.\n"
   ]
  },
  {
   "cell_type": "code",
   "execution_count": 6,
   "metadata": {},
   "outputs": [],
   "source": [
    "using Interpolations\n",
    "\n",
    "xs = [0, 1, 2]\n",
    "ys = [0, 1, 2]\n",
    "A = [1 0 -1; \n",
    "     0 0 0; \n",
    "    -1 0 1]\n",
    "\n",
    "interp_linear = LinearInterpolation((xs, ys), A)\n",
    "ys_space = xs_space = 0:0.1:2\n",
    "As = interp_linear(xs_space, ys_space);"
   ]
  },
  {
   "cell_type": "code",
   "execution_count": null,
   "metadata": {},
   "outputs": [],
   "source": [
    "using Plots\n",
    "plotly()\n",
    "surface(As)"
   ]
  },
  {
   "cell_type": "code",
   "execution_count": null,
   "metadata": {},
   "outputs": [],
   "source": []
  }
 ],
 "metadata": {
  "kernelspec": {
   "display_name": "Julia 1.0.1",
   "language": "julia",
   "name": "julia-1.0"
  },
  "language_info": {
   "file_extension": ".jl",
   "mimetype": "application/julia",
   "name": "julia",
   "version": "1.0.3"
  }
 },
 "nbformat": 4,
 "nbformat_minor": 2
}
