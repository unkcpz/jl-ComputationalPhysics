{
 "cells": [
  {
   "cell_type": "code",
   "execution_count": 1,
   "metadata": {},
   "outputs": [],
   "source": [
    "using BenchmarkTools"
   ]
  },
  {
   "cell_type": "markdown",
   "metadata": {},
   "source": [
    "### Chapter 1 Problems"
   ]
  },
  {
   "cell_type": "markdown",
   "metadata": {},
   "source": [
    "#### Problem 1.1\n",
    "*(Machine precision)* In this computer experiment we determine the machine precision $\\varepsilon_M$. Starti ng with a value of 1.0, $x$ is divided repeatedly by 2 until numerical addition of 1 and $x=2^{-M} gives 1. Compare single and double precision calculations."
   ]
  },
  {
   "cell_type": "code",
   "execution_count": 2,
   "metadata": {},
   "outputs": [
    {
     "name": "stdout",
     "output_type": "stream",
     "text": [
      "ε * 2 = 2.220446049250313e-16\n",
      "eps(Float64(1.0)) = 2.220446049250313e-16\n"
     ]
    }
   ],
   "source": [
    "ε = Float64(1.0)\n",
    "while one(ε) + ε > one(ε)\n",
    "    ε /= 2\n",
    "end\n",
    "@show ε * 2;\n",
    "@show eps(Float64(1.0));"
   ]
  },
  {
   "cell_type": "code",
   "execution_count": 3,
   "metadata": {},
   "outputs": [
    {
     "name": "stdout",
     "output_type": "stream",
     "text": [
      "ε * 2 = 1.1920929f-7\n",
      "eps(Float32(1.0)) = 1.1920929f-7\n"
     ]
    }
   ],
   "source": [
    "ε = Float32(1.0)\n",
    "while one(ε) + ε > one(ε)\n",
    "    ε /= 2\n",
    "end\n",
    "@show ε * 2;\n",
    "@show eps(Float32(1.0));"
   ]
  },
  {
   "cell_type": "markdown",
   "metadata": {},
   "source": [
    "#### Problem 1.2\n",
    "*(Maximum and minimum integers)* Integers are used as counters or to encode elements of a finite set like characters or colors. There are different integer formats available which store signed or unsigned integers of different length.There is no infinite integer and addition of 1 to the maximum integer gives the minimum integer.\n",
    "\n",
    "In this computer experiment we determine the smallest and largest integer numbers. Beginning with $I=1$ we add repeatedly 1 until the condition $I+1>I$ becomes invalid or substract repeatedly 1 until $I-1<I$ becomes invalid. For the 64 bit lone integer format this takes to long. Here we multiply alternatively $I$ by 2 until $I-1<I$ becomes invalid. For the character format the corresponding ordinal number is shown which is obtained by casting the character to an integer."
   ]
  },
  {
   "cell_type": "code",
   "execution_count": 4,
   "metadata": {},
   "outputs": [
    {
     "name": "stdout",
     "output_type": "stream",
     "text": [
      "Max_Int16 = 32767\n",
      "Min_Int16 = -32768\n"
     ]
    }
   ],
   "source": [
    "I = Int16(1)\n",
    "while I + one(I) > I\n",
    "    I += one(I)\n",
    "end\n",
    "Max_Int16 = I\n",
    "Min_Int16 = I + one(I)\n",
    "@show Max_Int16\n",
    "@show Min_Int16;"
   ]
  },
  {
   "cell_type": "code",
   "execution_count": 5,
   "metadata": {},
   "outputs": [
    {
     "name": "stdout",
     "output_type": "stream",
     "text": [
      "typemin(Int128) = -170141183460469231731687303715884105728\n",
      "I = -170141183460469231731687303715884105728\n"
     ]
    }
   ],
   "source": [
    "I = Int128(1)\n",
    "while I - one(I) < I\n",
    "    I *= Int128(2)\n",
    "end\n",
    "@show typemin(Int128)\n",
    "@show I;"
   ]
  },
  {
   "cell_type": "code",
   "execution_count": 6,
   "metadata": {},
   "outputs": [
    {
     "data": {
      "text/plain": [
       "myIntMinMax (generic function with 1 method)"
      ]
     },
     "execution_count": 6,
     "metadata": {},
     "output_type": "execute_result"
    }
   ],
   "source": [
    "function myIntMinMax(x::T) where {T<:Union{Signed, Unsigned}}\n",
    "    I = T(1)\n",
    "    while I - one(I) < I\n",
    "        I *= T(2)\n",
    "    end\n",
    "    return I, I - one(I)\n",
    "end"
   ]
  },
  {
   "cell_type": "code",
   "execution_count": 7,
   "metadata": {},
   "outputs": [
    {
     "data": {
      "text/plain": [
       "true"
      ]
     },
     "execution_count": 7,
     "metadata": {},
     "output_type": "execute_result"
    }
   ],
   "source": [
    "myIntMinMax(Int64(1)) == (typemin(Int64), typemax(Int64))"
   ]
  },
  {
   "cell_type": "code",
   "execution_count": 8,
   "metadata": {},
   "outputs": [
    {
     "name": "stdout",
     "output_type": "stream",
     "text": [
      "  118.297 ns (0 allocations: 0 bytes)\n"
     ]
    },
    {
     "data": {
      "text/plain": [
       "(-170141183460469231731687303715884105728, 170141183460469231731687303715884105727)"
      ]
     },
     "execution_count": 8,
     "metadata": {},
     "output_type": "execute_result"
    }
   ],
   "source": [
    "@btime myIntMinMax(Int128(1))"
   ]
  },
  {
   "cell_type": "markdown",
   "metadata": {},
   "source": [
    "#### Problem 1.3\n",
    "*(Truncation error)* This computer experiment approximates the cosine function by a truncated Taylor series\n",
    "$$ \\cos(x)\\approx \\mathrm{mycos}(x, n_{max})=\\sum_{n=0}^{n_{max}}(-)^n \\frac{x^{2n}}{(2n)!}=1-\\frac{x^2}{2}+\\frac{x^4}{24}-\\frac{x^6}{720}+\\cdots $$\n",
    "in the interval $-\\pi/2 < x < \\pi/2$. The function $\\mathrm{mycos}(x, n_{max})$ is numerically compared to the intrinsic cosine function."
   ]
  },
  {
   "cell_type": "code",
   "execution_count": 9,
   "metadata": {},
   "outputs": [
    {
     "data": {
      "text/plain": [
       "mycos (generic function with 1 method)"
      ]
     },
     "execution_count": 9,
     "metadata": {},
     "output_type": "execute_result"
    }
   ],
   "source": [
    "function mycos(x, nmax)\n",
    "    @assert -π/2 < x < π/2\n",
    "    sum(n -> (-1)^n * x^(2n)/factorial(2n), 0:nmax)\n",
    "end"
   ]
  },
  {
   "cell_type": "code",
   "execution_count": 10,
   "metadata": {},
   "outputs": [
    {
     "name": "stdout",
     "output_type": "stream",
     "text": [
      "Truncation error of mycos(1.0, 1) is -0.040302305868139765.\n",
      "Truncation error of mycos(1.0, 2) is 0.0013643607985268646.\n",
      "Truncation error of mycos(1.0, 3) is -2.4528090362019306e-5.\n",
      "Truncation error of mycos(1.0, 4) is 2.734969395401521e-7.\n",
      "Truncation error of mycos(1.0, 5) is -2.076252725302652e-9.\n",
      "Truncation error of mycos(1.0, 6) is 1.1422973678065773e-11.\n"
     ]
    }
   ],
   "source": [
    "x = 1.0\n",
    "for n in 1:6\n",
    "    ϵ = mycos(x, n) - cos(x)\n",
    "    println(\"Truncation error of mycos($x, $n) is $ϵ.\")\n",
    "end"
   ]
  },
  {
   "cell_type": "code",
   "execution_count": 11,
   "metadata": {},
   "outputs": [
    {
     "name": "stdout",
     "output_type": "stream",
     "text": [
      "  186.892 ns (0 allocations: 0 bytes)\n"
     ]
    },
    {
     "data": {
      "text/plain": [
       "0.540302303791887"
      ]
     },
     "execution_count": 11,
     "metadata": {},
     "output_type": "execute_result"
    }
   ],
   "source": [
    "@btime mycos(1.0, 5)"
   ]
  }
 ],
 "metadata": {
  "kernelspec": {
   "display_name": "Julia 1.0.1",
   "language": "julia",
   "name": "julia-1.0"
  },
  "language_info": {
   "file_extension": ".jl",
   "mimetype": "application/julia",
   "name": "julia",
   "version": "1.0.3"
  }
 },
 "nbformat": 4,
 "nbformat_minor": 2
}
