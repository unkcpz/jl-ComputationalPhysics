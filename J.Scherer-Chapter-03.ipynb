{
 "cells": [
  {
   "cell_type": "markdown",
   "metadata": {},
   "source": [
    "## Problem Chapter 3"
   ]
  },
  {
   "cell_type": "markdown",
   "metadata": {},
   "source": [
    "### Problem 3.1\n",
    "*(Numerical differentiation)* In this computer experiment we calculate the derivative of $f(x)=\\sin(x)$ numerically with\n",
    "\n",
    "- the single sided difference quotient\n",
    "$$\\frac{df}{dx}\\approx \\frac{f(x+h)-f(x)}{h},$$"
   ]
  },
  {
   "cell_type": "code",
   "execution_count": 1,
   "metadata": {},
   "outputs": [
    {
     "data": {
      "text/plain": [
       "forward_difference (generic function with 1 method)"
      ]
     },
     "execution_count": 1,
     "metadata": {},
     "output_type": "execute_result"
    }
   ],
   "source": [
    "function forward_difference(f, x, h)\n",
    "    return (f(x+h)-f(x))/h\n",
    "end"
   ]
  },
  {
   "cell_type": "code",
   "execution_count": 2,
   "metadata": {},
   "outputs": [
    {
     "data": {
      "text/plain": [
       "Df (generic function with 1 method)"
      ]
     },
     "execution_count": 2,
     "metadata": {},
     "output_type": "execute_result"
    }
   ],
   "source": [
    "Df(f; h=1e-8) = x -> forward_difference(f, x, h)"
   ]
  },
  {
   "cell_type": "code",
   "execution_count": 3,
   "metadata": {},
   "outputs": [
    {
     "data": {
      "image/svg+xml": [
       "<?xml version=\"1.0\" encoding=\"utf-8\"?>\n",
       "<svg xmlns=\"http://www.w3.org/2000/svg\" xmlns:xlink=\"http://www.w3.org/1999/xlink\" width=\"600\" height=\"400\" viewBox=\"0 0 2400 1600\">\n",
       "<defs>\n",
       "  <clipPath id=\"clip8100\">\n",
       "    <rect x=\"0\" y=\"0\" width=\"2000\" height=\"2000\"/>\n",
       "  </clipPath>\n",
       "</defs>\n",
       "<defs>\n",
       "  <clipPath id=\"clip8101\">\n",
       "    <rect x=\"0\" y=\"0\" width=\"2400\" height=\"1600\"/>\n",
       "  </clipPath>\n",
       "</defs>\n",
       "<polygon clip-path=\"url(#clip8101)\" points=\"\n",
       "0,1600 2400,1600 2400,0 0,0 \n",
       "  \" fill=\"#ffffff\" fill-rule=\"evenodd\" fill-opacity=\"1\"/>\n",
       "<defs>\n",
       "  <clipPath id=\"clip8102\">\n",
       "    <rect x=\"480\" y=\"0\" width=\"1681\" height=\"1600\"/>\n",
       "  </clipPath>\n",
       "</defs>\n",
       "<polygon clip-path=\"url(#clip8101)\" points=\"\n",
       "189.504,1503.47 2321.26,1503.47 2321.26,47.2441 189.504,47.2441 \n",
       "  \" fill=\"#ffffff\" fill-rule=\"evenodd\" fill-opacity=\"1\"/>\n",
       "<defs>\n",
       "  <clipPath id=\"clip8103\">\n",
       "    <rect x=\"189\" y=\"47\" width=\"2133\" height=\"1457\"/>\n",
       "  </clipPath>\n",
       "</defs>\n",
       "<polyline clip-path=\"url(#clip8103)\" style=\"stroke:#000000; stroke-width:2; stroke-opacity:0.1; fill:none\" points=\"\n",
       "  244.899,1503.47 244.899,47.2441 \n",
       "  \"/>\n",
       "<polyline clip-path=\"url(#clip8103)\" style=\"stroke:#000000; stroke-width:2; stroke-opacity:0.1; fill:none\" points=\"\n",
       "  566.783,1503.47 566.783,47.2441 \n",
       "  \"/>\n",
       "<polyline clip-path=\"url(#clip8103)\" style=\"stroke:#000000; stroke-width:2; stroke-opacity:0.1; fill:none\" points=\"\n",
       "  888.666,1503.47 888.666,47.2441 \n",
       "  \"/>\n",
       "<polyline clip-path=\"url(#clip8103)\" style=\"stroke:#000000; stroke-width:2; stroke-opacity:0.1; fill:none\" points=\"\n",
       "  1210.55,1503.47 1210.55,47.2441 \n",
       "  \"/>\n",
       "<polyline clip-path=\"url(#clip8103)\" style=\"stroke:#000000; stroke-width:2; stroke-opacity:0.1; fill:none\" points=\"\n",
       "  1532.43,1503.47 1532.43,47.2441 \n",
       "  \"/>\n",
       "<polyline clip-path=\"url(#clip8103)\" style=\"stroke:#000000; stroke-width:2; stroke-opacity:0.1; fill:none\" points=\"\n",
       "  1854.32,1503.47 1854.32,47.2441 \n",
       "  \"/>\n",
       "<polyline clip-path=\"url(#clip8103)\" style=\"stroke:#000000; stroke-width:2; stroke-opacity:0.1; fill:none\" points=\"\n",
       "  2176.2,1503.47 2176.2,47.2441 \n",
       "  \"/>\n",
       "<polyline clip-path=\"url(#clip8103)\" style=\"stroke:#000000; stroke-width:2; stroke-opacity:0.1; fill:none\" points=\"\n",
       "  189.504,1462.34 2321.26,1462.34 \n",
       "  \"/>\n",
       "<polyline clip-path=\"url(#clip8103)\" style=\"stroke:#000000; stroke-width:2; stroke-opacity:0.1; fill:none\" points=\"\n",
       "  189.504,1118.87 2321.26,1118.87 \n",
       "  \"/>\n",
       "<polyline clip-path=\"url(#clip8103)\" style=\"stroke:#000000; stroke-width:2; stroke-opacity:0.1; fill:none\" points=\"\n",
       "  189.504,775.401 2321.26,775.401 \n",
       "  \"/>\n",
       "<polyline clip-path=\"url(#clip8103)\" style=\"stroke:#000000; stroke-width:2; stroke-opacity:0.1; fill:none\" points=\"\n",
       "  189.504,431.929 2321.26,431.929 \n",
       "  \"/>\n",
       "<polyline clip-path=\"url(#clip8103)\" style=\"stroke:#000000; stroke-width:2; stroke-opacity:0.1; fill:none\" points=\"\n",
       "  189.504,88.4581 2321.26,88.4581 \n",
       "  \"/>\n",
       "<polyline clip-path=\"url(#clip8101)\" style=\"stroke:#000000; stroke-width:4; stroke-opacity:1; fill:none\" points=\"\n",
       "  189.504,1503.47 2321.26,1503.47 \n",
       "  \"/>\n",
       "<polyline clip-path=\"url(#clip8101)\" style=\"stroke:#000000; stroke-width:4; stroke-opacity:1; fill:none\" points=\"\n",
       "  189.504,1503.47 189.504,47.2441 \n",
       "  \"/>\n",
       "<polyline clip-path=\"url(#clip8101)\" style=\"stroke:#000000; stroke-width:4; stroke-opacity:1; fill:none\" points=\"\n",
       "  244.899,1503.47 244.899,1481.63 \n",
       "  \"/>\n",
       "<polyline clip-path=\"url(#clip8101)\" style=\"stroke:#000000; stroke-width:4; stroke-opacity:1; fill:none\" points=\"\n",
       "  566.783,1503.47 566.783,1481.63 \n",
       "  \"/>\n",
       "<polyline clip-path=\"url(#clip8101)\" style=\"stroke:#000000; stroke-width:4; stroke-opacity:1; fill:none\" points=\"\n",
       "  888.666,1503.47 888.666,1481.63 \n",
       "  \"/>\n",
       "<polyline clip-path=\"url(#clip8101)\" style=\"stroke:#000000; stroke-width:4; stroke-opacity:1; fill:none\" points=\"\n",
       "  1210.55,1503.47 1210.55,1481.63 \n",
       "  \"/>\n",
       "<polyline clip-path=\"url(#clip8101)\" style=\"stroke:#000000; stroke-width:4; stroke-opacity:1; fill:none\" points=\"\n",
       "  1532.43,1503.47 1532.43,1481.63 \n",
       "  \"/>\n",
       "<polyline clip-path=\"url(#clip8101)\" style=\"stroke:#000000; stroke-width:4; stroke-opacity:1; fill:none\" points=\"\n",
       "  1854.32,1503.47 1854.32,1481.63 \n",
       "  \"/>\n",
       "<polyline clip-path=\"url(#clip8101)\" style=\"stroke:#000000; stroke-width:4; stroke-opacity:1; fill:none\" points=\"\n",
       "  2176.2,1503.47 2176.2,1481.63 \n",
       "  \"/>\n",
       "<polyline clip-path=\"url(#clip8101)\" style=\"stroke:#000000; stroke-width:4; stroke-opacity:1; fill:none\" points=\"\n",
       "  189.504,1462.34 221.48,1462.34 \n",
       "  \"/>\n",
       "<polyline clip-path=\"url(#clip8101)\" style=\"stroke:#000000; stroke-width:4; stroke-opacity:1; fill:none\" points=\"\n",
       "  189.504,1118.87 221.48,1118.87 \n",
       "  \"/>\n",
       "<polyline clip-path=\"url(#clip8101)\" style=\"stroke:#000000; stroke-width:4; stroke-opacity:1; fill:none\" points=\"\n",
       "  189.504,775.401 221.48,775.401 \n",
       "  \"/>\n",
       "<polyline clip-path=\"url(#clip8101)\" style=\"stroke:#000000; stroke-width:4; stroke-opacity:1; fill:none\" points=\"\n",
       "  189.504,431.929 221.48,431.929 \n",
       "  \"/>\n",
       "<polyline clip-path=\"url(#clip8101)\" style=\"stroke:#000000; stroke-width:4; stroke-opacity:1; fill:none\" points=\"\n",
       "  189.504,88.4581 221.48,88.4581 \n",
       "  \"/>\n",
       "<g clip-path=\"url(#clip8101)\">\n",
       "<text style=\"fill:#000000; fill-opacity:1; font-family:Arial,Helvetica Neue,Helvetica,sans-serif; font-size:48px; text-anchor:middle;\" transform=\"rotate(0, 244.899, 1557.47)\" x=\"244.899\" y=\"1557.47\">0</text>\n",
       "</g>\n",
       "<g clip-path=\"url(#clip8101)\">\n",
       "<text style=\"fill:#000000; fill-opacity:1; font-family:Arial,Helvetica Neue,Helvetica,sans-serif; font-size:48px; text-anchor:middle;\" transform=\"rotate(0, 566.783, 1557.47)\" x=\"566.783\" y=\"1557.47\">1</text>\n",
       "</g>\n",
       "<g clip-path=\"url(#clip8101)\">\n",
       "<text style=\"fill:#000000; fill-opacity:1; font-family:Arial,Helvetica Neue,Helvetica,sans-serif; font-size:48px; text-anchor:middle;\" transform=\"rotate(0, 888.666, 1557.47)\" x=\"888.666\" y=\"1557.47\">2</text>\n",
       "</g>\n",
       "<g clip-path=\"url(#clip8101)\">\n",
       "<text style=\"fill:#000000; fill-opacity:1; font-family:Arial,Helvetica Neue,Helvetica,sans-serif; font-size:48px; text-anchor:middle;\" transform=\"rotate(0, 1210.55, 1557.47)\" x=\"1210.55\" y=\"1557.47\">3</text>\n",
       "</g>\n",
       "<g clip-path=\"url(#clip8101)\">\n",
       "<text style=\"fill:#000000; fill-opacity:1; font-family:Arial,Helvetica Neue,Helvetica,sans-serif; font-size:48px; text-anchor:middle;\" transform=\"rotate(0, 1532.43, 1557.47)\" x=\"1532.43\" y=\"1557.47\">4</text>\n",
       "</g>\n",
       "<g clip-path=\"url(#clip8101)\">\n",
       "<text style=\"fill:#000000; fill-opacity:1; font-family:Arial,Helvetica Neue,Helvetica,sans-serif; font-size:48px; text-anchor:middle;\" transform=\"rotate(0, 1854.32, 1557.47)\" x=\"1854.32\" y=\"1557.47\">5</text>\n",
       "</g>\n",
       "<g clip-path=\"url(#clip8101)\">\n",
       "<text style=\"fill:#000000; fill-opacity:1; font-family:Arial,Helvetica Neue,Helvetica,sans-serif; font-size:48px; text-anchor:middle;\" transform=\"rotate(0, 2176.2, 1557.47)\" x=\"2176.2\" y=\"1557.47\">6</text>\n",
       "</g>\n",
       "<g clip-path=\"url(#clip8101)\">\n",
       "<text style=\"fill:#000000; fill-opacity:1; font-family:Arial,Helvetica Neue,Helvetica,sans-serif; font-size:48px; text-anchor:end;\" transform=\"rotate(0, 165.504, 1479.84)\" x=\"165.504\" y=\"1479.84\">-1.0</text>\n",
       "</g>\n",
       "<g clip-path=\"url(#clip8101)\">\n",
       "<text style=\"fill:#000000; fill-opacity:1; font-family:Arial,Helvetica Neue,Helvetica,sans-serif; font-size:48px; text-anchor:end;\" transform=\"rotate(0, 165.504, 1136.37)\" x=\"165.504\" y=\"1136.37\">-0.5</text>\n",
       "</g>\n",
       "<g clip-path=\"url(#clip8101)\">\n",
       "<text style=\"fill:#000000; fill-opacity:1; font-family:Arial,Helvetica Neue,Helvetica,sans-serif; font-size:48px; text-anchor:end;\" transform=\"rotate(0, 165.504, 792.901)\" x=\"165.504\" y=\"792.901\">0.0</text>\n",
       "</g>\n",
       "<g clip-path=\"url(#clip8101)\">\n",
       "<text style=\"fill:#000000; fill-opacity:1; font-family:Arial,Helvetica Neue,Helvetica,sans-serif; font-size:48px; text-anchor:end;\" transform=\"rotate(0, 165.504, 449.429)\" x=\"165.504\" y=\"449.429\">0.5</text>\n",
       "</g>\n",
       "<g clip-path=\"url(#clip8101)\">\n",
       "<text style=\"fill:#000000; fill-opacity:1; font-family:Arial,Helvetica Neue,Helvetica,sans-serif; font-size:48px; text-anchor:end;\" transform=\"rotate(0, 165.504, 105.958)\" x=\"165.504\" y=\"105.958\">1.0</text>\n",
       "</g>\n",
       "<polyline clip-path=\"url(#clip8103)\" style=\"stroke:#009af9; stroke-width:4; stroke-opacity:1; fill:none\" points=\"\n",
       "  249.837,764.863 254.775,754.328 259.712,743.799 264.65,733.276 310.306,636.771 355.963,543.051 401.619,453.997 447.276,371.399 474.713,325.565 502.151,282.997 \n",
       "  529.589,244.005 557.026,208.872 580.224,182.367 603.423,158.942 626.621,138.717 649.819,121.797 675.019,107.265 700.218,96.8266 725.418,90.5447 750.618,88.4582 \n",
       "  773.85,90.2628 797.081,95.6349 820.313,104.546 843.545,116.951 868.452,134.056 893.359,155 918.266,179.656 943.173,207.878 972.031,244.81 1000.89,286.004 \n",
       "  1029.75,331.128 1058.6,379.822 1109.89,473.943 1161.18,575.703 1206.16,669.192 1251.14,764.75 1300.17,869.107 1349.21,971.294 1398.54,1069.5 1447.86,1160.82 \n",
       "  1475.13,1207.56 1502.4,1251.19 1529.67,1291.41 1556.94,1327.93 1582.89,1359 1608.83,1386.28 1634.78,1409.6 1660.72,1428.79 1687.7,1444.25 1714.68,1455.01 \n",
       "  1741.66,1461.01 1768.64,1462.19 1791.35,1459.44 1814.06,1453.29 1836.76,1443.77 1859.47,1430.92 1887.2,1410.82 1914.93,1386.01 1942.65,1356.67 1970.38,1323.02 \n",
       "  1996.44,1287.68 2022.5,1248.99 2048.57,1207.19 2074.63,1162.56 2116.38,1085.9 2158.14,1004.03 2199.89,918.315 2241.65,830.197 2248.08,816.517 2254.5,802.821 \n",
       "  2260.93,789.114 \n",
       "  \"/>\n",
       "<polyline clip-path=\"url(#clip8103)\" style=\"stroke:#e26f46; stroke-width:4; stroke-opacity:1; fill:none\" points=\"\n",
       "  249.837,88.539 254.775,88.7814 259.712,89.1854 264.65,89.7509 287.478,94.4595 310.306,102.592 333.135,114.106 355.963,128.946 378.791,147.036 401.619,168.285 \n",
       "  424.448,192.586 447.276,219.817 474.713,256.23 502.151,296.413 529.589,340.074 557.026,386.897 603.423,472.302 649.819,563.995 750.618,775.625 843.545,971.192 \n",
       "  893.359,1070.35 943.173,1162.45 972.031,1211.71 1000.89,1257.46 1029.75,1299.34 1058.6,1337.01 1084.25,1366.71 1109.89,1392.66 1135.54,1414.7 1161.18,1432.68 \n",
       "  1183.67,1445.01 1206.16,1454.08 1228.65,1459.84 1251.14,1462.26 1275.65,1461.08 1300.17,1455.92 1324.69,1446.82 1349.21,1433.82 1373.87,1416.89 1398.54,1396.2 \n",
       "  1423.2,1371.87 1447.86,1344.03 1475.13,1309.38 1502.4,1270.9 1529.67,1228.86 1556.94,1183.57 1582.89,1137.76 1608.83,1089.59 1634.78,1039.38 1660.72,987.458 \n",
       "  1768.64,760.684 1859.47,570.012 1887.2,514.38 1914.93,460.682 1942.65,409.319 1970.38,360.67 1996.44,317.736 2022.5,277.801 2048.57,241.127 2074.63,207.953 \n",
       "  2095.51,184.053 2116.38,162.639 2137.26,143.802 2158.14,127.621 2199.89,103.489 2241.65,90.6472 2248.08,89.6898 2254.5,89.0056 2260.93,88.595 \n",
       "  \"/>\n",
       "<polygon clip-path=\"url(#clip8101)\" points=\"\n",
       "1958.43,312.204 2249.26,312.204 2249.26,130.764 1958.43,130.764 \n",
       "  \" fill=\"#ffffff\" fill-rule=\"evenodd\" fill-opacity=\"1\"/>\n",
       "<polyline clip-path=\"url(#clip8101)\" style=\"stroke:#000000; stroke-width:4; stroke-opacity:1; fill:none\" points=\"\n",
       "  1958.43,312.204 2249.26,312.204 2249.26,130.764 1958.43,130.764 1958.43,312.204 \n",
       "  \"/>\n",
       "<polyline clip-path=\"url(#clip8101)\" style=\"stroke:#009af9; stroke-width:4; stroke-opacity:1; fill:none\" points=\"\n",
       "  1982.43,191.244 2126.43,191.244 \n",
       "  \"/>\n",
       "<g clip-path=\"url(#clip8101)\">\n",
       "<text style=\"fill:#000000; fill-opacity:1; font-family:Arial,Helvetica Neue,Helvetica,sans-serif; font-size:48px; text-anchor:start;\" transform=\"rotate(0, 2150.43, 208.744)\" x=\"2150.43\" y=\"208.744\">y1</text>\n",
       "</g>\n",
       "<polyline clip-path=\"url(#clip8101)\" style=\"stroke:#e26f46; stroke-width:4; stroke-opacity:1; fill:none\" points=\"\n",
       "  1982.43,251.724 2126.43,251.724 \n",
       "  \"/>\n",
       "<g clip-path=\"url(#clip8101)\">\n",
       "<text style=\"fill:#000000; fill-opacity:1; font-family:Arial,Helvetica Neue,Helvetica,sans-serif; font-size:48px; text-anchor:start;\" transform=\"rotate(0, 2150.43, 269.224)\" x=\"2150.43\" y=\"269.224\">y2</text>\n",
       "</g>\n",
       "</svg>\n"
      ]
     },
     "execution_count": 3,
     "metadata": {},
     "output_type": "execute_result"
    }
   ],
   "source": [
    "using Plots\n",
    "gr()\n",
    "f(x) = sin(x)\n",
    "fp(x) = Df(f)(x)\n",
    "plot([f, fp], 0, 2pi)"
   ]
  },
  {
   "cell_type": "markdown",
   "metadata": {},
   "source": [
    "##### Test the error"
   ]
  },
  {
   "cell_type": "code",
   "execution_count": 4,
   "metadata": {},
   "outputs": [
    {
     "name": "stdout",
     "output_type": "stream",
     "text": [
      "absolute error of forward difference is -4.207362275021609e-6 for ε=1.0e-5.\n",
      "absolute error of forward difference is -4.2074680939307996e-7 for ε=1.0e-6.\n",
      "absolute error of forward difference is -4.182769108851403e-8 for ε=1.0e-7.\n",
      "absolute error of forward difference is -2.9698852266335507e-9 for ε=1.0e-8.\n",
      "absolute error of forward difference is 4.3240216923923214e-5 for ε=1.0e-12.\n"
     ]
    }
   ],
   "source": [
    "for ε in [1e-5, 1e-6, 1e-7, 1e-8, 1e-12]\n",
    "    abs_error = forward_difference(sin, 1, ε) - cos(1)\n",
    "    println(\"absolute error of forward difference is $abs_error for ε=$ε.\")\n",
    "end"
   ]
  },
  {
   "cell_type": "markdown",
   "metadata": {},
   "source": [
    "- the symmetrical difference quotient\n",
    "$$\\frac{df}{dx}\\approx D_h f(x)=$$"
   ]
  },
  {
   "cell_type": "code",
   "execution_count": 5,
   "metadata": {},
   "outputs": [
    {
     "data": {
      "text/plain": [
       "symmetrical_difference (generic function with 1 method)"
      ]
     },
     "execution_count": 5,
     "metadata": {},
     "output_type": "execute_result"
    }
   ],
   "source": [
    "function symmetrical_difference(f, x, h)\n",
    "    return (f(x+h)-f(x-h))/2h\n",
    "end"
   ]
  },
  {
   "cell_type": "code",
   "execution_count": 6,
   "metadata": {},
   "outputs": [
    {
     "name": "stdout",
     "output_type": "stream",
     "text": [
      "absolute error of symmetrical difference is 2.7716939854371958e-11 for ε=1.0e-6.\n",
      "absolute error of symmetrical difference is -1.9432766507065935e-10 for ε=1.0e-7.\n",
      "absolute error of symmetrical difference is 2.581229896492232e-9 for ε=1.0e-8.\n",
      "absolute error of symmetrical difference is -2.9698852266335507e-9 for ε=1.0e-9.\n",
      "absolute error of symmetrical difference is -5.848103645789138e-8 for ε=1.0e-10.\n",
      "absolute error of symmetrical difference is -1.2270934307334613e-5 for ε=1.0e-12.\n"
     ]
    }
   ],
   "source": [
    "for ε in [1e-6, 1e-7, 1e-8, 1e-9, 1e-10, 1e-12]\n",
    "    abs_error = symmetrical_difference(sin, 1, ε) - cos(1)\n",
    "    println(\"absolute error of symmetrical difference is $abs_error for ε=$ε.\")\n",
    "end"
   ]
  },
  {
   "cell_type": "markdown",
   "metadata": {},
   "source": [
    "##### Formal method by ForwardDiff"
   ]
  },
  {
   "cell_type": "code",
   "execution_count": 7,
   "metadata": {},
   "outputs": [
    {
     "name": "stdout",
     "output_type": "stream",
     "text": [
      "ForwardDiff.derivative(sin, 1) = 0.5403023058681398\n",
      "ForwardDiff.derivative(sin, 1) - cos(1) = 0.0\n"
     ]
    }
   ],
   "source": [
    "using ForwardDiff\n",
    "@show ForwardDiff.derivative(sin, 1);\n",
    "@show ForwardDiff.derivative(sin, 1) - cos(1);"
   ]
  },
  {
   "cell_type": "code",
   "execution_count": null,
   "metadata": {},
   "outputs": [],
   "source": []
  }
 ],
 "metadata": {
  "kernelspec": {
   "display_name": "Julia 1.0.1",
   "language": "julia",
   "name": "julia-1.0"
  },
  "language_info": {
   "file_extension": ".jl",
   "mimetype": "application/julia",
   "name": "julia",
   "version": "1.0.3"
  }
 },
 "nbformat": 4,
 "nbformat_minor": 2
}
