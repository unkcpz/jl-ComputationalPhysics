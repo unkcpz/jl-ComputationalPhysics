{
 "cells": [
  {
   "cell_type": "code",
   "execution_count": null,
   "metadata": {},
   "outputs": [],
   "source": [
    "using LinearAlgebra\n",
    "using Plots\n",
    "using FFTW"
   ]
  },
  {
   "cell_type": "code",
   "execution_count": null,
   "metadata": {},
   "outputs": [],
   "source": [
    "include(\"tools.jl\")"
   ]
  },
  {
   "cell_type": "markdown",
   "metadata": {},
   "source": [
    "## Overview\n",
    "\n",
    "Solution of Poisson's equation:\n",
    "\n",
    "$$\n",
    "\\nabla^2 \\phi(r) = -4\\pi n(r).\n",
    "$$\n",
    "\n",
    "as the single line of code\n",
    "\n",
    "`ϕ=cI(Linv(-4*π*O(cJ(n))));`"
   ]
  },
  {
   "cell_type": "markdown",
   "metadata": {},
   "source": [
    "### Indexing\n",
    "\n",
    "Computational implementation of problems in $d=3$ dimensions requires careful mapping of three-dimensional objects into a linear space. In lecture, we developed an approach to this indexing through the formation of two index matrices $M$ and $N$, where\n",
    "\n",
    "$$M = \\begin{bmatrix}\n",
    "    0 & 0 & 0 \\\\\n",
    "    1 & 0 & 0 \\\\\n",
    "    \\vdots & 0 & 0 \\\\\n",
    "    S_1-1 & 0 & 0 \\\\\n",
    "    S_1 & 0 & 0 \\\\\n",
    "    \\vdots & 1 & 0 \\\\\n",
    "    \\vdots & \\vdots & 0 \\\\\n",
    "    \\vdots & S_2-1 & 0 \\\\\n",
    "    \\vdots & S_2 & 0 \\\\\n",
    "    \\vdots & \\vdots & 1 \\\\\n",
    "    \\vdots & \\vdots & \\vdots \\\\\n",
    "    \\vdots & \\vdots & S_3-1 \\\\\n",
    "    \\vdots & \\vdots & S_3 \\\\\n",
    "\\end{bmatrix}\n",
    "\\qquad\n",
    "N = \\begin{bmatrix}\n",
    "    0 & 0 & 0 \\\\\n",
    "    1 & 0 & 0 \\\\\n",
    "    \\vdots & 0 & 0 \\\\\n",
    "    -2 & 0 & 0 \\\\\n",
    "    -1 & 0 & 0 \\\\\n",
    "    \\vdots & 1 & 0 \\\\\n",
    "    \\vdots & \\vdots & 0 \\\\\n",
    "    \\vdots & -2 & 0 \\\\\n",
    "    \\vdots & -1 & 0 \\\\\n",
    "    \\vdots & \\vdots & 1 \\\\\n",
    "    \\vdots & \\vdots & \\vdots \\\\\n",
    "    \\vdots & \\vdots & -2 \\\\\n",
    "    \\vdots & \\vdots & -1 \\\\\n",
    "\\end{bmatrix}$$\n",
    "\n",
    "As a specific example, if `S=[3;3;2]`, then\n",
    "\n",
    "$$M = \\begin{bmatrix}\n",
    "    0 & 0 & 0 \\\\\n",
    "    1 & 0 & 0 \\\\\n",
    "    2 & 0 & 0 \\\\\n",
    "    0 & 1 & 0 \\\\\n",
    "    1 & 1 & 0 \\\\\n",
    "    2 & 1 & 0 \\\\\n",
    "    0 & 2 & 0 \\\\\n",
    "    1 & 2 & 0 \\\\\n",
    "    2 & 2 & 0 \\\\\n",
    "    0 & 0 & 1 \\\\\n",
    "    1 & 0 & 1 \\\\\n",
    "    2 & 0 & 1 \\\\\n",
    "    0 & 1 & 1 \\\\\n",
    "    1 & 1 & 1 \\\\\n",
    "    2 & 1 & 1 \\\\\n",
    "    0 & 2 & 1 \\\\\n",
    "    1 & 2 & 1 \\\\\n",
    "    2 & 2 & 1 \\\\\n",
    "\\end{bmatrix}$$"
   ]
  },
  {
   "cell_type": "code",
   "execution_count": null,
   "metadata": {},
   "outputs": [],
   "source": [
    "function indexMN(S)\n",
    "    ms = [i for i in 0:prod(S)-1]\n",
    "    m1 = @. rem(ms, S[1])\n",
    "    m2 = @. rem(div(ms, S[1]), S[2])\n",
    "    m3 = @. rem(div(ms, S[1]*S[2]), S[3])\n",
    "    M = [m1 m2 m3]\n",
    "        \n",
    "    n1 = @. m1 - (m1 > S[1]/2)*S[1]\n",
    "    n2 = @. m2 - (m2 > S[2]/2)*S[2]\n",
    "    n3 = @. m3 - (m3 > S[3]/2)*S[3]\n",
    "    N = [n1 n2 n3]\n",
    "    \n",
    "    M, N\n",
    "end"
   ]
  },
  {
   "cell_type": "markdown",
   "metadata": {},
   "source": [
    "### Sampling points and reciprocal lattice vectors"
   ]
  },
  {
   "cell_type": "code",
   "execution_count": null,
   "metadata": {},
   "outputs": [],
   "source": [
    "function GRSampling(R, S)\n",
    "    M, N = indexMN(S)\n",
    "    G = N * 2π*inv(R)\n",
    "    r = M * inv(Diagonal(S)) * R' # R column vector [R1 R2 R3]\n",
    "    \n",
    "    G, r\n",
    "end"
   ]
  },
  {
   "cell_type": "code",
   "execution_count": null,
   "metadata": {},
   "outputs": [],
   "source": [
    "d2(r) = sum(r .^ 2, dims=2)[:]"
   ]
  },
  {
   "cell_type": "code",
   "execution_count": null,
   "metadata": {},
   "outputs": [],
   "source": [
    "# size specification\n",
    "S = [20;25;30]\n",
    "R = Diagonal([6;6;6])\n",
    "G, r = GRSampling(R, S)\n",
    "G2 = d2(G);"
   ]
  },
  {
   "cell_type": "code",
   "execution_count": null,
   "metadata": {},
   "outputs": [],
   "source": [
    "_,N = indexMN(S)\n",
    "view(G2,S, N)"
   ]
  },
  {
   "cell_type": "markdown",
   "metadata": {},
   "source": [
    "\n",
    "## Charge distribution\n",
    "\n",
    "The charge density for our examle solution to Poisson's equation will be\n",
    "\n",
    "$$n = g_1(r) - g_2(r) = \n",
    "\\frac{e^{-r^2/(2\\sigma_2^2)}}{(2\\pi \\sigma_2^2)^{3/2}} - \n",
    "\\frac{e^{-r^2/(2\\sigma_1^2)}}{(2\\pi \\sigma_1^2)^{3/2}}$$\n",
    "\n",
    "where $r$ is the distance from the *center* of the cell, $g_1(r)$ and $g_2(r)$ are normalized three-dimensional Gaussian distributions, and $\\sigma_1=0.75$ bohr and $\\sigma_2=0.50$ bohr, respectively.\n",
    "`"
   ]
  },
  {
   "cell_type": "code",
   "execution_count": null,
   "metadata": {},
   "outputs": [],
   "source": [
    "char(r, σ) = exp(-r^2/(2*σ^2)) / (2π*σ^2)^(3/2)"
   ]
  },
  {
   "cell_type": "code",
   "execution_count": null,
   "metadata": {},
   "outputs": [],
   "source": [
    "S = [20;25;30]\n",
    "R = Diagonal([6;6;6])\n",
    "G, r = GRSampling(R, S)\n",
    "rmid = sum(R, dims=2)/2\n",
    "rmids = ones(prod(S), 1) * rmid'\n",
    "rd = r - rmids\n",
    "rd = sqrt.(d2(rd))\n",
    "n = char.(rd, 0.5) - char.(rd, 0.75);"
   ]
  },
  {
   "cell_type": "code",
   "execution_count": null,
   "metadata": {},
   "outputs": [],
   "source": [
    "nx, ny, nz = 10, 12, 15\n",
    "view(n, S, r, nx=nx, ny=ny, nz=nz)"
   ]
  },
  {
   "cell_type": "markdown",
   "metadata": {},
   "source": [
    "## Operators"
   ]
  },
  {
   "cell_type": "code",
   "execution_count": null,
   "metadata": {},
   "outputs": [],
   "source": [
    "struct DTs{fftT, ifftT}\n",
    "    R::Matrix{Float64}\n",
    "    G2::Vector{Float64}\n",
    "    S::Vector{Int64}\n",
    "    values::Array{Number}\n",
    "    \n",
    "    FFT::fftT\n",
    "    IFFT::ifftT\n",
    "end\n",
    "\n",
    "function DTs(R, G2, S, values)  \n",
    "    tmp = Array{Complex{Float64}}(undef, S...)\n",
    "    FFT = plan_fft!(tmp)\n",
    "    IFFT = plan_ifft!(tmp)\n",
    "    \n",
    "    DTs{typeof(FFT), typeof(IFFT)}(R, G2, S, values, FFT, IFFT)\n",
    "end"
   ]
  },
  {
   "cell_type": "code",
   "execution_count": null,
   "metadata": {},
   "outputs": [],
   "source": [
    "import Base: *, real, adjoint,\n",
    "    broadcast\n",
    "\n",
    "function *(x::Number, dts::DTs)\n",
    "    res = x * dts.values\n",
    "    DTs(dts.R, dts.G2, dts.S, res)\n",
    "end\n",
    "\n",
    "function *(dts::DTs, x::Number)\n",
    "    res = x * dts.values\n",
    "    DTs(dts.R, dts.G2, dts.S, res)\n",
    "end\n",
    "\n",
    "function *(dts::DTs, x::AbstractMatrix)\n",
    "    res = x .* dts.values\n",
    "    DTs(dts.R, dts.G2, dts.S, res)\n",
    "end\n",
    "\n",
    "function *(dts1::DTs, dts2::DTs)\n",
    "    res = dts1.values * dts2.values\n",
    "    DTs(dts1.R, dts1.G2, dts1.S, res)\n",
    "end\n",
    "\n",
    "function real(dts::DTs)\n",
    "    res = real(dts.values)\n",
    "    DTs(dts.R, dts.G2, dts.S, res)\n",
    "end\n",
    "\n",
    "function adjoint(dts::DTs)\n",
    "    res = adjoint(dts.values)\n",
    "    DTs(dts.R, dts.G2, dts.S, res)\n",
    "end"
   ]
  },
  {
   "cell_type": "code",
   "execution_count": null,
   "metadata": {},
   "outputs": [],
   "source": [
    "S = [20;25;30]\n",
    "R = Matrix(Diagonal([6;6;6]))\n",
    "G, r = GRSampling(R, S)\n",
    "G2 = d2(G)[:];"
   ]
  },
  {
   "cell_type": "code",
   "execution_count": null,
   "metadata": {},
   "outputs": [],
   "source": [
    "function O(in)\n",
    "    out = det(in.R) .* in.values\n",
    "    DTs(in.R, in.G2, in.S, out)\n",
    "end"
   ]
  },
  {
   "cell_type": "code",
   "execution_count": null,
   "metadata": {},
   "outputs": [],
   "source": [
    "function L(in)\n",
    "    out = -det(in.R) * in.values .* in.G2\n",
    "    DTs(in.R, in.G2, in.S, out)\n",
    "end"
   ]
  },
  {
   "cell_type": "markdown",
   "metadata": {},
   "source": [
    "**Check**: "
   ]
  },
  {
   "cell_type": "code",
   "execution_count": null,
   "metadata": {},
   "outputs": [],
   "source": [
    "in = DTs(R, G2, S, randn(prod(S)));\n",
    "out = L(in)\n",
    "[out.values ./ in.values -det(R)*G2][1:5, :]"
   ]
  },
  {
   "cell_type": "code",
   "execution_count": null,
   "metadata": {},
   "outputs": [],
   "source": [
    "function Linv(in)\n",
    "    out = - 1/det(in.R) * in.values ./ G2\n",
    "    out[1] = 0.0\n",
    "    DTs(in.R, in.G2, in.S, out)\n",
    "end"
   ]
  },
  {
   "cell_type": "markdown",
   "metadata": {},
   "source": [
    "**Check**:"
   ]
  },
  {
   "cell_type": "code",
   "execution_count": null,
   "metadata": {},
   "outputs": [],
   "source": [
    "in = DTs(R, G2, S, randn(prod(S)));\n",
    "out = Linv(L(in))\n",
    "res = out.values ./ in.values\n",
    "res[1:5]"
   ]
  },
  {
   "cell_type": "code",
   "execution_count": null,
   "metadata": {},
   "outputs": [],
   "source": [
    "# fourier to real\n",
    "function cI(in)\n",
    "    out = reshape(in.FFT * reshape(in.values, in.S...), prod(in.S))\n",
    "    DTs(in.R, in.G2, in.S, out)\n",
    "end\n",
    "\n",
    "# real to fourier\n",
    "function cJ(in)\n",
    "    out = reshape(in.IFFT * reshape(in.values, in.S...), prod(in.S))\n",
    "    DTs(in.R, in.G2, in.S, out)\n",
    "end"
   ]
  },
  {
   "cell_type": "markdown",
   "metadata": {},
   "source": [
    "**Check**:"
   ]
  },
  {
   "cell_type": "code",
   "execution_count": null,
   "metadata": {},
   "outputs": [],
   "source": [
    "in = DTs(R, G2, S, randn(prod(S)));\n",
    "out = cJ(cI(in)) \n",
    "res = out.values ./ in.values\n",
    "res[1:5]"
   ]
  },
  {
   "cell_type": "code",
   "execution_count": null,
   "metadata": {},
   "outputs": [],
   "source": [
    "nin = DTs(R, G2, S, n);\n",
    "ϕ=cI(Linv(-4*π*O(cJ(nin))));\n",
    "ϕ = real(ϕ);"
   ]
  },
  {
   "cell_type": "code",
   "execution_count": null,
   "metadata": {},
   "outputs": [],
   "source": [
    "nx, ny, nz = 10, 12, 15\n",
    "view(ϕ.values, S, r, nx=nx, ny=ny, nz=nz)"
   ]
  },
  {
   "cell_type": "code",
   "execution_count": null,
   "metadata": {},
   "outputs": [],
   "source": [
    "Unum = 0.5 * real(cJ(ϕ)' * O(cJ(nin)))\n",
    "Unum.values"
   ]
  },
  {
   "cell_type": "code",
   "execution_count": null,
   "metadata": {},
   "outputs": [],
   "source": [
    "σ1, σ2 = 0.75, 0.5\n",
    "Uanal = ((1/σ1+1/σ2)/2 - √2 / √(σ1^2 + σ2^2)) / √π"
   ]
  },
  {
   "cell_type": "markdown",
   "metadata": {},
   "source": [
    "### Ewald energy calculator"
   ]
  },
  {
   "cell_type": "code",
   "execution_count": null,
   "metadata": {},
   "outputs": [],
   "source": [
    "S = [64;64;64]\n",
    "R = Diagonal([16.0;16.0;16.0])\n",
    "G, r = GRSampling(R, S)\n",
    "G2 = d2(G);"
   ]
  },
  {
   "cell_type": "code",
   "execution_count": null,
   "metadata": {},
   "outputs": [],
   "source": [
    "X = [0 0 0; 4.0 0 0];\n",
    "Z = 1;\n",
    "Sf = sum(cis.(G*X'), dims=2);"
   ]
  },
  {
   "cell_type": "code",
   "execution_count": null,
   "metadata": {},
   "outputs": [],
   "source": [
    "rmid = sum(R, dims=2)/2.0\n",
    "rmids = zeros(prod(S), 3)\n",
    "for i in 1:3\n",
    "    rmids[:,i] .= rmid[i]\n",
    "end\n",
    "rd = r - rmids;"
   ]
  },
  {
   "cell_type": "code",
   "execution_count": null,
   "metadata": {},
   "outputs": [],
   "source": [
    "rd = sqrt.(d2(rd));"
   ]
  },
  {
   "cell_type": "code",
   "execution_count": null,
   "metadata": {},
   "outputs": [],
   "source": [
    "gin_values = char.(rd, 0.25)\n",
    "gin = DTs(R, G2, S, gin_values);\n",
    "n = cI(cJ(gin)*Sf);\n",
    "n = real(n);"
   ]
  },
  {
   "cell_type": "code",
   "execution_count": null,
   "metadata": {},
   "outputs": [],
   "source": [
    "nx, ny, nz = 32,32,32\n",
    "view(n.values, S, r, nx=nx, ny=ny, nz=nz)"
   ]
  },
  {
   "cell_type": "code",
   "execution_count": null,
   "metadata": {},
   "outputs": [],
   "source": [
    "ϕ=cI(Linv(-4*π*O(cJ(n))));\n",
    "ϕ = real(ϕ);\n",
    "Unum = 0.5 * real(cJ(ϕ)' * O(cJ(n)))\n",
    "Unum.values"
   ]
  },
  {
   "cell_type": "markdown",
   "metadata": {},
   "source": [
    "How to calculate the ewald energy analysisly?"
   ]
  }
 ],
 "metadata": {
  "@webio": {
   "lastCommId": null,
   "lastKernelId": null
  },
  "kernelspec": {
   "display_name": "Julia 1.1.1",
   "language": "julia",
   "name": "julia-1.1"
  },
  "language_info": {
   "file_extension": ".jl",
   "mimetype": "application/julia",
   "name": "julia",
   "version": "1.1.1"
  }
 },
 "nbformat": 4,
 "nbformat_minor": 2
}
